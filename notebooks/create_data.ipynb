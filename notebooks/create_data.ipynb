{
 "cells": [
  {
   "cell_type": "code",
   "execution_count": 10,
   "metadata": {},
   "outputs": [],
   "source": [
    "import numpy\n",
    "from tqdm import tqdm\n",
    "import pickle\n",
    "from src.load_data import load_data_and_drop_duplicated\n",
    "from src.slope_calculation import (\n",
    "    baseline_slope_calculation,\n",
    "    get_rdp_points,\n",
    "    get_interpolated_rdp_slope\n",
    ")"
   ]
  },
  {
   "cell_type": "code",
   "execution_count": 3,
   "metadata": {},
   "outputs": [],
   "source": [
    "def load_data():\n",
    "    df = load_data_and_drop_duplicated(\"../data/Transects_Level_2_LBRUT.shp\")\n",
    "    return df\n",
    "\n",
    "def get_pk_and_elevation_array(df):\n",
    "    elevation_array = numpy.array(df[\"LB_Q25_COR\"])\n",
    "    pk_array = numpy.array(df[\"PK\"])\n",
    "    return pk_array, elevation_array"
   ]
  },
  {
   "cell_type": "code",
   "execution_count": 11,
   "metadata": {},
   "outputs": [
    {
     "name": "stderr",
     "output_type": "stream",
     "text": [
      "100%|██████████| 101/101 [05:31<00:00,  3.28s/it]\n"
     ]
    }
   ],
   "source": [
    "df = load_data()\n",
    "pk_array, elevation_array = get_pk_and_elevation_array(df)\n",
    "data_dict = {}\n",
    "data_dict[\"pk_array\"] = pk_array\n",
    "data_dict[\"elevation_array\"] = elevation_array\n",
    "data_dict[\"baseline_slope\"] = baseline_slope_calculation(pk_array, elevation_array)\n",
    "data_dict[\"rdp_epsilon\"] = {}\n",
    "for epsilon in tqdm(numpy.arange(0,1.01,0.01)):\n",
    "    epsilon = round(epsilon, 2)\n",
    "    rdp_points_kept_array = get_rdp_points(pk_array, elevation_array, epsilon)\n",
    "    rpd_slope_interpolation = get_interpolated_rdp_slope(pk_array, rdp_points_kept_array)\n",
    "    data_dict[\"rdp_epsilon\"][epsilon] = {\n",
    "        \"rdp_points_kept_array\": rdp_points_kept_array,\n",
    "        \"rpd_slope_interpolation\": rpd_slope_interpolation\n",
    "    }"
   ]
  },
  {
   "cell_type": "code",
   "execution_count": 26,
   "metadata": {},
   "outputs": [],
   "source": [
    "with open (\"data/data_dict.pkl\", \"wb\") as f:\n",
    "    pickle.dump(data_dict, f)"
   ]
  }
 ],
 "metadata": {
  "kernelspec": {
   "display_name": "transect-project",
   "language": "python",
   "name": "python3"
  },
  "language_info": {
   "codemirror_mode": {
    "name": "ipython",
    "version": 3
   },
   "file_extension": ".py",
   "mimetype": "text/x-python",
   "name": "python",
   "nbconvert_exporter": "python",
   "pygments_lexer": "ipython3",
   "version": "3.9.18"
  }
 },
 "nbformat": 4,
 "nbformat_minor": 2
}
