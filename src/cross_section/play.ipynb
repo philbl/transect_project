{
 "cells": [
  {
   "cell_type": "code",
   "execution_count": 1,
   "metadata": {},
   "outputs": [],
   "source": [
    "import geopandas\n",
    "import pandas\n",
    "from pathlib import Path\n",
    "from shapely.geometry import LineString, Point\n",
    "from tqdm import tqdm\n",
    "\n",
    "from utils import (\n",
    "    retrieve_polygon_for_pk,\n",
    "    get_points_of_contact_between_two_polygon,\n",
    "    farthest_points_from_list_of_points,\n",
    "    get_boundaries_points_list,\n",
    "    adjust_point_to_be_on_polygon_edge,\n",
    "    get_extremities_points_from_points_before_and_after,\n",
    "    create_all_points_from_shore_points_list,\n",
    ")"
   ]
  },
  {
   "cell_type": "code",
   "execution_count": 2,
   "metadata": {},
   "outputs": [],
   "source": [
    "MANNING = 0.037\n",
    "DISTANCE = 0.5\n",
    "TRANSECT_DATA_PATH = \"../../../data/cross_section/Transects_Level_2_ESC.shp\"\n",
    "SAVING_FOLDER_PATH = \"../../../data/cross_section/points/\""
   ]
  },
  {
   "cell_type": "code",
   "execution_count": 3,
   "metadata": {},
   "outputs": [],
   "source": [
    "data = geopandas.read_file(TRANSECT_DATA_PATH)"
   ]
  },
  {
   "cell_type": "code",
   "execution_count": 4,
   "metadata": {},
   "outputs": [
    {
     "name": "stderr",
     "output_type": "stream",
     "text": [
      "  0%|          | 0/27094 [00:00<?, ?it/s]"
     ]
    },
    {
     "name": "stderr",
     "output_type": "stream",
     "text": [
      "100%|██████████| 27094/27094 [04:52<00:00, 92.68it/s] \n"
     ]
    }
   ],
   "source": [
    "distance = DISTANCE\n",
    "save_boudaries_points_and_line = True\n",
    "folder_save_path = SAVING_FOLDER_PATH\n",
    "pk_list = []\n",
    "error_list = []\n",
    "z_list = []\n",
    "points_list = []\n",
    "boundary_list = []\n",
    "line_list = []\n",
    "epsg = data.crs.to_epsg()\n",
    "for i in tqdm(range(1, len(data) - 1)):\n",
    "    pk = data.loc[i][\"PK\"]\n",
    "    transect_polygon = data.loc[i].geometry\n",
    "    qi = data.loc[i][\"Q_IMG_spli\"]\n",
    "    si = data.loc[i][\"Slope\"]\n",
    "    if si == 0:\n",
    "        continue\n",
    "\n",
    "    polygon_before = retrieve_polygon_for_pk(data, pk - 5)\n",
    "    polygon_after = retrieve_polygon_for_pk(data, pk + 5)\n",
    "\n",
    "    intersect_points_before = get_points_of_contact_between_two_polygon(\n",
    "        transect_polygon, polygon_before\n",
    "    )\n",
    "    intersect_points_after = get_points_of_contact_between_two_polygon(\n",
    "        transect_polygon, polygon_after\n",
    "    )\n",
    "\n",
    "    if len(intersect_points_before) == 0 or len(intersect_points_after) == 0:\n",
    "        continue\n",
    "\n",
    "    intersect_points_before = farthest_points_from_list_of_points(\n",
    "        intersect_points_before\n",
    "    )\n",
    "    intersect_points_after = farthest_points_from_list_of_points(\n",
    "        intersect_points_after\n",
    "    )\n",
    "\n",
    "    # Ajouter les points qui sont sur la frontière en amont\n",
    "    intersect_points_after_point_class = [\n",
    "        Point(point[0], point[1]) for point in intersect_points_after\n",
    "    ]\n",
    "    uptstream_middle_points_list = create_all_points_from_shore_points_list(\n",
    "        intersect_points_after_point_class, qi, MANNING, si, distance\n",
    "    )\n",
    "    points_list.extend(uptstream_middle_points_list)\n",
    "    pk_list.extend([pk] * len(uptstream_middle_points_list))\n",
    "    z_list.extend([point.coords[0][2] for point in uptstream_middle_points_list])\n",
    "    ###\n",
    "\n",
    "    boundary_list.extend(\n",
    "        get_boundaries_points_list(intersect_points_before, intersect_points_after)\n",
    "    )\n",
    "\n",
    "    (\n",
    "        int_point_list,\n",
    "        int_line_list,\n",
    "    ) = get_extremities_points_from_points_before_and_after(\n",
    "        intersect_points_before, intersect_points_after\n",
    "    )\n",
    "    line_list.extend(int_line_list)\n",
    "\n",
    "    adjusted_point_list = adjust_point_to_be_on_polygon_edge(\n",
    "        int_point_list, transect_polygon\n",
    "    )\n",
    "\n",
    "    if LineString(adjusted_point_list).length == 0:\n",
    "        error_list.append(i)\n",
    "        continue\n",
    "\n",
    "    all_middle_points_list = create_all_points_from_shore_points_list(\n",
    "        adjusted_point_list, qi, MANNING, si, distance\n",
    "    )\n",
    "    points_list.extend(all_middle_points_list)\n",
    "    pk_list.extend([pk] * len(all_middle_points_list))\n",
    "    z_list.extend([point.coords[0][2] for point in all_middle_points_list])\n",
    "\n",
    "if save_boudaries_points_and_line:\n",
    "    geo_df_int = geopandas.GeoDataFrame(geometry=boundary_list, crs=f\"EPSG:{epsg}\")\n",
    "    geo_df_int.to_file(Path(folder_save_path, f\"boundary_points_{distance}m.shp\"))\n",
    "\n",
    "    geo_df_int_ls = geopandas.GeoDataFrame(geometry=line_list, crs=f\"EPSG:{epsg}\")\n",
    "    geo_df_int_ls.to_file(Path(folder_save_path, f\"boundary_lines_{distance}m.shp\"))\n",
    "\n",
    "df = pandas.DataFrame({\"PK\": pk_list, \"z\": z_list})\n",
    "geo_df = geopandas.GeoDataFrame(df, geometry=points_list, crs=f\"EPSG:{epsg}\")\n",
    "geo_df.to_file(Path(folder_save_path, f\"cross_section_points_{distance}m.shp\"))\n"
   ]
  }
 ],
 "metadata": {
  "kernelspec": {
   "display_name": "transect-project",
   "language": "python",
   "name": "python3"
  },
  "language_info": {
   "codemirror_mode": {
    "name": "ipython",
    "version": 3
   },
   "file_extension": ".py",
   "mimetype": "text/x-python",
   "name": "python",
   "nbconvert_exporter": "python",
   "pygments_lexer": "ipython3",
   "version": "3.9.18"
  }
 },
 "nbformat": 4,
 "nbformat_minor": 2
}
